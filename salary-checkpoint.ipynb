{
 "cells": [
  {
   "cell_type": "code",
   "execution_count": null,
   "id": "cdf2102e",
   "metadata": {},
   "outputs": [],
   "source": [
    "name = input(\"Enter your name: \")\n",
    "print(\"Type'm' for Manager, 't'for Team leader, 'e' for Employee.\")\n",
    "post = input(\"Enter your post: \")\n",
    "mon = input(\"Enter the salary month: \")\n",
    "day = int(input(\"How many days were you present? : \"))\n",
    "x = input(\"did you do work overtime? (type 'y' if yes, 'n' if no)\")\n",
    "\n",
    "if x==\"y\":\n",
    "  ovr = int(input(\"how many days did you work overtime? : \"))\n",
    "\n",
    "def salary():\n",
    "  b = day + ovr\n",
    "\n",
    "  if day<i:\n",
    "    if post ==\"m\":\n",
    "      s = (bin/2)*2000\n",
    "      print(f\"your salary for this month is: {s}\")\n",
    "\n",
    "    if post ==\"t\":\n",
    "      p = (b/2)*1800\n",
    "      print(f\"your salary for this month is: {p}\")\n",
    "\n",
    "    if post ==\"e\":\n",
    "      k = (b/2)*1500\n",
    "      print(f\"your salary for this month is: {k}\")\n",
    "\n",
    "  else:\n",
    "      print(\"invalid input\")\n",
    "\n",
    "if mon ==\"jan\"or \"mar\" or \"may\" or \"july\" or \"aug\" or \"oct\" or \"dec\":\n",
    "  i = 31 \n",
    "elif mon == \"apr\" or \"jun\" or \"sep\" or \"nov\":\n",
    "  i = 30\n",
    "else:\n",
    "  i = 28\n",
    "\n",
    "salary()"
   ]
  }
 ],
 "metadata": {
  "kernelspec": {
   "display_name": "Python 3",
   "language": "python",
   "name": "python3"
  },
  "language_info": {
   "codemirror_mode": {
    "name": "ipython",
    "version": 3
   },
   "file_extension": ".py",
   "mimetype": "text/x-python",
   "name": "python",
   "nbconvert_exporter": "python",
   "pygments_lexer": "ipython3",
   "version": "3.8.8"
  }
 },
 "nbformat": 4,
 "nbformat_minor": 5
}
